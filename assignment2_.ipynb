{
  "nbformat": 4,
  "nbformat_minor": 0,
  "metadata": {
    "colab": {
      "provenance": [],
      "authorship_tag": "ABX9TyPBFnlSI1kBJEi5Ab74fLTE",
      "include_colab_link": true
    },
    "kernelspec": {
      "name": "python3",
      "display_name": "Python 3"
    },
    "language_info": {
      "name": "python"
    }
  },
  "cells": [
    {
      "cell_type": "markdown",
      "metadata": {
        "id": "view-in-github",
        "colab_type": "text"
      },
      "source": [
        "<a href=\"https://colab.research.google.com/github/Ayeza-76/python-class-assignments/blob/main/assignment2_.ipynb\" target=\"_parent\"><img src=\"https://colab.research.google.com/assets/colab-badge.svg\" alt=\"Open In Colab\"/></a>"
      ]
    },
    {
      "cell_type": "markdown",
      "source": [
        "simple calculator"
      ],
      "metadata": {
        "id": "zsyVaHNkNDz4"
      }
    },
    {
      "cell_type": "code",
      "source": [
        "first_digit = float(input(\"Enter your first digit: \"))\n",
        "operator = input(\"Enter an operator (+, -, *, /): \")\n",
        "second_digit = float(input(\"Enter your second digit: \"))\n",
        "\n",
        "\n",
        "if operator == \"+\":\n",
        "    print(\"Result:\", first_digit + second_digit)\n",
        "elif operator == \"-\":\n",
        "    print(\"Result:\", first_digit - second_digit)\n",
        "elif operator == \"*\":\n",
        "    print(\"Result:\", first_digit * second_digit)\n",
        "elif operator == \"/\":\n",
        "    print(\"Result:\", first_digit / second_digit if second_digit != 0 else \"Error! Division by zero.\")\n",
        "else:\n",
        "    print(\"Invalid operator\")\n"
      ],
      "metadata": {
        "colab": {
          "base_uri": "https://localhost:8080/"
        },
        "id": "H4CMFcsC5Js7",
        "outputId": "efc72624-7235-41fc-bb4e-62b826e96c04"
      },
      "execution_count": null,
      "outputs": [
        {
          "output_type": "stream",
          "name": "stdout",
          "text": [
            "Enter your first digit: 100\n",
            "Enter an operator (+, -, *, /): /\n",
            "Enter your second digit: 50\n",
            "Result: 2.0\n"
          ]
        }
      ]
    },
    {
      "cell_type": "markdown",
      "source": [
        "part2 simple grading system"
      ],
      "metadata": {
        "id": "8pAzPcvs6XRh"
      }
    },
    {
      "cell_type": "code",
      "source": [
        "marks = float(input(\"Enter your number: \"))\n",
        "if marks >= 90:\n",
        "    print(\"A+ (Excellent)\")\n",
        "elif marks >= 80:\n",
        "    print(\"A (Very Good)\")\n",
        "elif marks >= 70:\n",
        "    print(\"B (Good)\")\n",
        "elif marks >= 60:\n",
        "    print(\"C (Average)\")\n",
        "elif marks >= 50:\n",
        "    print(\"D (Below Average)\")\n",
        "else:\n",
        "    print(\"F (You are fail)\")"
      ],
      "metadata": {
        "colab": {
          "base_uri": "https://localhost:8080/"
        },
        "id": "mAPxObNg6xGG",
        "outputId": "354d7670-880f-489e-bea5-561ddead7db8"
      },
      "execution_count": null,
      "outputs": [
        {
          "output_type": "stream",
          "name": "stdout",
          "text": [
            "Enter your number: 90\n",
            "A+ (Excellent)\n"
          ]
        }
      ]
    }
  ]
}