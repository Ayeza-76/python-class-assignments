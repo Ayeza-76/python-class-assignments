{
  "cells": [
    {
      "cell_type": "markdown",
      "metadata": {
        "id": "view-in-github",
        "colab_type": "text"
      },
      "source": [
        "<a href=\"https://colab.research.google.com/github/Ayeza-76/python-class-assignments/blob/main/Assignment1.ipynb\" target=\"_parent\"><img src=\"https://colab.research.google.com/assets/colab-badge.svg\" alt=\"Open In Colab\"/></a>"
      ]
    },
    {
      "cell_type": "code",
      "execution_count": null,
      "metadata": {
        "colab": {
          "base_uri": "https://localhost:8080/"
        },
        "id": "Y5p04jgT5EcC",
        "outputId": "3c4c5d98-2abc-4b1b-9ee0-b2d4d480f4be"
      },
      "outputs": [
        {
          "name": "stdout",
          "output_type": "stream",
          "text": [
            "it was a busy day\n",
            "it was a busy day\n",
            "it was a busy day.Ihave to do lots of work with my mama because we will go to the picnic. \n"
          ]
        }
      ],
      "source": [
        "one_string='it was a busy day'\n",
        "double_string=\"it was a busy day\"\n",
        "triple_string='''it was a busy day.Ihave to do lots of work with my mama because we will go to the picnic. '''\n",
        "\n",
        "print(one_string)\n",
        "print(double_string)\n",
        "print(triple_string)\n",
        "                            #Q 1 completed"
      ]
    },
    {
      "cell_type": "code",
      "execution_count": null,
      "metadata": {
        "colab": {
          "base_uri": "https://localhost:8080/"
        },
        "id": "rzoL3WNXOIp_",
        "outputId": "33f1aa5f-5061-4e6e-c0cc-6f81f9c0e349"
      },
      "outputs": [
        {
          "name": "stdout",
          "output_type": "stream",
          "text": [
            "MUSARRAT NAZ\n",
            "musarrat naz\n",
            "Musarrat Naz\n"
          ]
        }
      ],
      "source": [
        "full_name = \"Musarrat Naz\"\n",
        "print(full_name.upper())\n",
        "print(full_name.lower())\n",
        "print(full_name.title())\n",
        "                             #Q2 part1 completed\n"
      ]
    },
    {
      "cell_type": "code",
      "execution_count": null,
      "metadata": {
        "colab": {
          "base_uri": "https://localhost:8080/"
        },
        "id": "x2_S2qNEQAX8",
        "outputId": "53a52b3c-5a67-4644-9cd9-b44e73fcf5f0"
      },
      "outputs": [
        {
          "name": "stdout",
          "output_type": "stream",
          "text": [
            "Python programming is fun!\n"
          ]
        }
      ],
      "source": [
        "messy_text =\"Python programming is fun!\"\n",
        "clean_text=messy_text\n",
        "print(clean_text.strip())"
      ]
    },
    {
      "cell_type": "code",
      "execution_count": null,
      "metadata": {
        "colab": {
          "base_uri": "https://localhost:8080/"
        },
        "id": "uqYH6efEScMZ",
        "outputId": "00409615-eba6-46b9-9d6c-f68cebdc3e02"
      },
      "outputs": [
        {
          "name": "stdout",
          "output_type": "stream",
          "text": [
            "Python programming is amazing!\n"
          ]
        }
      ],
      "source": [
        "messy_text =\"Python programming is fun!\"\n",
        "clean_text=messy_text\n",
        "print(clean_text.replace(\"fun\",\"amazing\"))"
      ]
    },
    {
      "cell_type": "code",
      "execution_count": null,
      "metadata": {
        "colab": {
          "base_uri": "https://localhost:8080/"
        },
        "id": "3a0Nm0TATVkf",
        "outputId": "8f8ba35a-1984-4e8f-c013-878d98c60c5d"
      },
      "outputs": [
        {
          "output_type": "stream",
          "name": "stdout",
          "text": [
            "3\n"
          ]
        }
      ],
      "source": [
        "messy_text =\"Python programming is Amazing\"\n",
        "messy_text= messy_text\n",
        "print(messy_text.count(\"i\"))"
      ]
    },
    {
      "cell_type": "code",
      "source": [
        "sentence = \"The quick brown fox jumps over the lazy dog\"\n",
        "word_list =sentence.split()\n",
        "dashed_sentene = \"-\".join(word_list)\n",
        "starts_with_the = sentence.startswith(\"The\")\n",
        "fox_position = sentence.find(\"fox\")\n",
        "print(\"list of words \",word_list)\n",
        "print(\"joined dashes\", dashed_sentene)\n",
        "print(\"start with The\" ,starts_with_the)\n",
        "print(\"position of fox\" ,fox_position)\n",
        "                                        #Q2 completed"
      ],
      "metadata": {
        "colab": {
          "base_uri": "https://localhost:8080/"
        },
        "id": "KnE_YMrC_vPo",
        "outputId": "e69a9cea-b88b-4c5d-b88c-7572f90e9559"
      },
      "execution_count": null,
      "outputs": [
        {
          "output_type": "stream",
          "name": "stdout",
          "text": [
            "list of words  ['The', 'quick', 'brown', 'fox', 'jumps', 'over', 'the', 'lazy', 'dog']\n",
            "joined dashes The-quick-brown-fox-jumps-over-the-lazy-dog\n",
            "start with The True\n",
            "position of fox 16\n"
          ]
        }
      ]
    },
    {
      "cell_type": "code",
      "source": [
        "your_name =\"MUSARRAT NAz\"\n",
        "your_age = 40\n",
        "language =\"urdu\"\n",
        "                    #using f string\n",
        "sentence1 =f\"my name is {your_name} and Iam {your_age} years old. I speak {language}.\"\n",
        "sentence2 =f\"I enjoy to speak {language}. it is my mothertounge.\"\n",
        "sentence3 =f\"In 5 years,I will be {your_age +5} years old.\"\n",
        "print(sentence1)\n",
        "print(sentence2)\n",
        "print(sentence3)\n",
        "                 #Q3 completed\n",
        "\n"
      ],
      "metadata": {
        "colab": {
          "base_uri": "https://localhost:8080/"
        },
        "id": "kBVuvqwWGlQV",
        "outputId": "c02ff5c7-5472-438d-e245-bdc09293e3cf"
      },
      "execution_count": null,
      "outputs": [
        {
          "output_type": "stream",
          "name": "stdout",
          "text": [
            "my name is MUSARRAT NAz and Iam 40 years old. I speak urdu.\n",
            "I enjoy to speak urdu. it is my mothertounge.\n",
            "In 5 years,I will be 45 years old.\n"
          ]
        }
      ]
    },
    {
      "cell_type": "code",
      "source": [
        "\n",
        "first_name = input(\"Enter your first name: \").strip().capitalize()\n",
        "last_name = input(\"Enter your last name: \").strip().capitalize()\n",
        "birth_year = input(\"Enter your birth year: \").strip()\n",
        "\n",
        "                 # calculate age\n",
        "current_year = 2025\n",
        "age = current_year - int(birth_year)\n",
        "                #creating user name\n",
        "user_name = f\"{first_name[0].lower()}{last_name.lower()}{birth_year}\"\n",
        "profile_message = f\"Profile: {first_name} {last_name}, Age: {age}; Username: {user_name}\"\n",
        "print(profile_message)\n",
        "               #Q4 completed\n",
        "\n"
      ],
      "metadata": {
        "colab": {
          "base_uri": "https://localhost:8080/"
        },
        "id": "QHDCOwxq5HDn",
        "outputId": "00c4b7e1-8fea-4df7-e9c9-b92898e2f0b3"
      },
      "execution_count": null,
      "outputs": [
        {
          "output_type": "stream",
          "name": "stdout",
          "text": [
            "Enter your first name: Musarrat\n",
            "Enter your last name: Naz\n",
            "Enter your birth year: 1980\n",
            "Profile: Musarrat Naz, Age: 45; Username: mnaz1980\n"
          ]
        }
      ]
    }
  ],
  "metadata": {
    "colab": {
      "provenance": [],
      "authorship_tag": "ABX9TyOpmocfbmO15Lbm6PbKLo5v",
      "include_colab_link": true
    },
    "kernelspec": {
      "display_name": "Python 3",
      "name": "python3"
    },
    "language_info": {
      "name": "python"
    }
  },
  "nbformat": 4,
  "nbformat_minor": 0
}