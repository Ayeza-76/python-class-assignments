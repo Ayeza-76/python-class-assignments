{
  "nbformat": 4,
  "nbformat_minor": 0,
  "metadata": {
    "colab": {
      "provenance": [],
      "authorship_tag": "ABX9TyOEolZNA2Y3eICS4FJ5UoeC",
      "include_colab_link": true
    },
    "kernelspec": {
      "name": "python3",
      "display_name": "Python 3"
    },
    "language_info": {
      "name": "python"
    }
  },
  "cells": [
    {
      "cell_type": "markdown",
      "metadata": {
        "id": "view-in-github",
        "colab_type": "text"
      },
      "source": [
        "<a href=\"https://colab.research.google.com/github/Ayeza-76/python-class-assignments/blob/main/Classassignment_4.ipynb\" target=\"_parent\"><img src=\"https://colab.research.google.com/assets/colab-badge.svg\" alt=\"Open In Colab\"/></a>"
      ]
    },
    {
      "cell_type": "markdown",
      "source": [
        "             Class assignment  list , dictionary ,forloop and while loop"
      ],
      "metadata": {
        "id": "MBAG_ZmgGh0I"
      }
    },
    {
      "cell_type": "code",
      "source": [
        "                                         #List methods\n",
        "                 #Create a modify list\n",
        "fruits = [\"apple\", \"banana\", \"orange\"]\n",
        "fruits.append(\"grape\")\n",
        "fruits.insert(2, \"mango\")\n",
        "fruits.remove(\"banana\")\n",
        "print(\"Final fruits list:\", fruits)"
      ],
      "metadata": {
        "colab": {
          "base_uri": "https://localhost:8080/"
        },
        "id": "l_MZesxgHrcT",
        "outputId": "0a29accf-6ec6-439d-80ee-622132389cc0"
      },
      "execution_count": null,
      "outputs": [
        {
          "output_type": "stream",
          "name": "stdout",
          "text": [
            "Final fruits list: ['apple', 'mango', 'orange', 'grape']\n"
          ]
        }
      ]
    },
    {
      "cell_type": "code",
      "source": [
        "                                             # List Operations\n",
        "numbers = [10, 20, 30, 40, 50]\n",
        "more_numbers = [60, 70, 80]\n",
        "all_numbers = numbers + more_numbers\n",
        "numbers_copy = all_numbers.copy()\n",
        "numbers_copy.reverse()\n",
        "print(\"All numbers:\", all_numbers)\n",
        "print(\"Reversed copy:\", numbers_copy)\n"
      ],
      "metadata": {
        "colab": {
          "base_uri": "https://localhost:8080/"
        },
        "id": "z1cM2ke4I2bg",
        "outputId": "fe1c1f9b-67f0-4535-a20d-c06798bc3eed"
      },
      "execution_count": null,
      "outputs": [
        {
          "output_type": "stream",
          "name": "stdout",
          "text": [
            "All numbers: [10, 20, 30, 40, 50, 60, 70, 80]\n",
            "Reversed copy: [80, 70, 60, 50, 40, 30, 20, 10]\n"
          ]
        }
      ]
    },
    {
      "cell_type": "code",
      "source": [
        "                                           #Sorting and Counting\n",
        "scores = [85, 92, 78, 65, 92, 85, 74]\n",
        "scores.sort()\n",
        "print(\"Scores in ascending order:\", scores)\n",
        "scores.sort(reverse=True)\n",
        "print(\"Scores in descending order:\", scores)\n",
        "print(\"Count of 92:\", scores.count(92))\n",
        "print(\"Highest score:\", max(scores))\n",
        "print(\"Lowest score:\", min(scores))\n",
        "print(\"Final sorted scores:\", scores)"
      ],
      "metadata": {
        "colab": {
          "base_uri": "https://localhost:8080/"
        },
        "id": "Wng_bHCaJQud",
        "outputId": "137f208c-266c-42c8-ede2-b4379eb41a4c"
      },
      "execution_count": null,
      "outputs": [
        {
          "output_type": "stream",
          "name": "stdout",
          "text": [
            "Scores in ascending order: [65, 74, 78, 85, 85, 92, 92]\n",
            "Scores in descending order: [92, 92, 85, 85, 78, 74, 65]\n",
            "Count of 92: 2\n",
            "Highest score: 92\n",
            "Lowest score: 65\n",
            "Final sorted scores: [92, 92, 85, 85, 78, 74, 65]\n"
          ]
        }
      ]
    },
    {
      "cell_type": "code",
      "source": [
        "                                               #List Manipulation\n",
        "letters = [\"a\", \"b\", \"c\", \"d\", \"e\"]\n",
        "first_three = letters[:3]\n",
        "last_two = letters[-2:]\n",
        "index_c = letters.index(\"c\")\n",
        "letters[letters.index(\"d\")] = \"z\"\n",
        "print(\"First three letters:\", first_three)\n",
        "print(\"Last two letters:\", last_two)\n",
        "print(\"Index of 'c':\", index_c)\n",
        "print(\"Modified letters list:\", letters)"
      ],
      "metadata": {
        "colab": {
          "base_uri": "https://localhost:8080/"
        },
        "id": "fPCDFRUFKPNF",
        "outputId": "b7325b38-9e4f-40a7-dfca-afb2b86ea26d"
      },
      "execution_count": null,
      "outputs": [
        {
          "output_type": "stream",
          "name": "stdout",
          "text": [
            "First three letters: ['a', 'b', 'c']\n",
            "Last two letters: ['d', 'e']\n",
            "Index of 'c': 2\n",
            "Modified letters list: ['a', 'b', 'c', 'z', 'e']\n"
          ]
        }
      ]
    },
    {
      "cell_type": "code",
      "source": [
        "                                             #Dictionary Methods\n",
        "                         #Create and Access Dictionaries\n",
        "\n",
        "student = {\n",
        "    \"name\": \"John\",\n",
        "    \"age\": 20,\n",
        "    \"grade\": \"A\",\n",
        "    \"courses\": [\"Math\", \"Science\", \"History\"]\n",
        "}\n",
        "\n",
        "# Print the student's name\n",
        "print(\"Name:\", student[\"name\"])\n",
        "\n",
        "# Print the list of courses\n",
        "print(\"Courses:\", student[\"courses\"])\n",
        "\n",
        "# Add a new key-value pair\n",
        "student[\"email\"] = \"john@example.com\"\n",
        "\n",
        "# Print the entire dictionary\n",
        "print(\"\\nStudent Dictionary:\")\n",
        "print(student)\n"
      ],
      "metadata": {
        "colab": {
          "base_uri": "https://localhost:8080/"
        },
        "id": "1JsECAkFLaUD",
        "outputId": "368d0610-79cf-4e2a-a97c-36a4736b9dc4"
      },
      "execution_count": null,
      "outputs": [
        {
          "output_type": "stream",
          "name": "stdout",
          "text": [
            "Name: John\n",
            "Courses: ['Math', 'Science', 'History']\n",
            "\n",
            "Student Dictionary:\n",
            "{'name': 'John', 'age': 20, 'grade': 'A', 'courses': ['Math', 'Science', 'History'], 'email': 'john@example.com'}\n"
          ]
        }
      ]
    },
    {
      "cell_type": "code",
      "source": [
        "           #Modify Dictionary Values\n",
        "student[\"age\"] = 21\n",
        "student[\"courses\"].append(\"Computer Science\")\n",
        "student[\"grade\"] = \"A+\"\n",
        "\n",
        "# Print the modified dictionary\n",
        "print(\"\\nModified Student Dictionary:\")\n",
        "print(student)"
      ],
      "metadata": {
        "colab": {
          "base_uri": "https://localhost:8080/"
        },
        "id": "xMoeB9VJMsIS",
        "outputId": "3299395a-18e7-412f-9c18-c7b4f92d7ec1"
      },
      "execution_count": null,
      "outputs": [
        {
          "output_type": "stream",
          "name": "stdout",
          "text": [
            "\n",
            "Modified Student Dictionary:\n",
            "{'name': 'John', 'age': 21, 'grade': 'A+', 'courses': ['Math', 'Science', 'History', 'Computer Science'], 'email': 'john@example.com'}\n"
          ]
        }
      ]
    },
    {
      "cell_type": "code",
      "source": [
        "                             #Dictionary Operations\n",
        "student_address = {\n",
        "    \"street\": \"123 College Ave\",\n",
        "    \"city\": \"New York\",\n",
        "    \"zip\": \"10001\"\n",
        "}\n",
        "\n",
        "# Combine both dictionaries\n",
        "student_info = student.copy()\n",
        "student_info.update(student_address)\n",
        "\n",
        "# Remove the \"zip\" key\n",
        "student_info.pop(\"zip\")\n",
        "\n",
        "# Check if \"phone\" exists in dictionary\n",
        "has_phone = \"phone\" in student_info\n",
        "print(\"\\nContains 'phone'? -\", has_phone)\n",
        "\n",
        "# Print the final dictionary\n",
        "print(\"\\nFinal Student Info:\")\n",
        "print(student_info)"
      ],
      "metadata": {
        "colab": {
          "base_uri": "https://localhost:8080/"
        },
        "id": "_bcXkSyJNUaV",
        "outputId": "b41f4132-2e4b-46e2-e8fa-3baa8ee41d7b"
      },
      "execution_count": null,
      "outputs": [
        {
          "output_type": "stream",
          "name": "stdout",
          "text": [
            "\n",
            "Contains 'phone'? - False\n",
            "\n",
            "Final Student Info:\n",
            "{'name': 'John', 'age': 21, 'grade': 'A+', 'courses': ['Math', 'Science', 'History', 'Computer Science'], 'email': 'john@example.com', 'street': '123 College Ave', 'city': 'New York'}\n"
          ]
        }
      ]
    },
    {
      "cell_type": "code",
      "source": [
        "                         #Dictionary Methods\n",
        "word_count = {\n",
        "    \"hello\": 5,\n",
        "    \"world\": 10,\n",
        "    \"python\": 15\n",
        "}\n",
        "\n",
        "# Get all keys\n",
        "print(\"\\nKeys:\", list(word_count.keys()))\n",
        "\n",
        "# Get all values\n",
        "print(\"Values:\", list(word_count.values()))\n",
        "\n",
        "# Get all key-value pairs\n",
        "print(\"Items:\", list(word_count.items()))\n",
        "\n",
        "# Make a copy of the dictionary\n",
        "word_count_copy = word_count.copy()\n",
        "\n",
        "# Clear the original dictionary\n",
        "word_count.clear()\n",
        "\n",
        "# Print both dictionaries\n",
        "print(\"\\nOriginal Dictionary (after clear):\", word_count)\n",
        "print(\"Copied Dictionary:\", word_count_copy)\n"
      ],
      "metadata": {
        "colab": {
          "base_uri": "https://localhost:8080/"
        },
        "id": "QH6szXlQOmPK",
        "outputId": "db2b466b-84a8-442d-efef-cfa446e9f776"
      },
      "execution_count": null,
      "outputs": [
        {
          "output_type": "stream",
          "name": "stdout",
          "text": [
            "\n",
            "Keys: ['hello', 'world', 'python']\n",
            "Values: [5, 10, 15]\n",
            "Items: [('hello', 5), ('world', 10), ('python', 15)]\n",
            "\n",
            "Original Dictionary (after clear): {}\n",
            "Copied Dictionary: {'hello': 5, 'world': 10, 'python': 15}\n"
          ]
        }
      ]
    },
    {
      "cell_type": "code",
      "source": [
        "                                   #Shopping Discount Calculator\n",
        "# Initial variables\n",
        "purchase_amount = 120.0\n",
        "is_loyalty_member = True\n",
        "day_of_week = \"Saturday\"\n",
        "is_holiday_season = True\n",
        "\n",
        "# Initialize total discount\n",
        "total_discount = 0\n",
        "\n",
        "print(\"Original purchase amount: $\", purchase_amount)\n",
        "\n",
        "# Apply base discount based on purchase amount\n",
        "if purchase_amount > 100:\n",
        "    discount = purchase_amount * 0.10\n",
        "    total_discount += discount\n",
        "    print(\"10% discount applied: $\", round(discount, 2))\n",
        "elif purchase_amount > 50:\n",
        "    discount = purchase_amount * 0.05\n",
        "    total_discount += discount\n",
        "    print(\"5% discount applied: $\", round(discount, 2))\n",
        "\n",
        "# Apply loyalty member discount\n",
        "if is_loyalty_member:\n",
        "    discount = purchase_amount * 0.05\n",
        "    total_discount += discount\n",
        "    print(\"Loyalty member 5% discount applied: $\", round(discount, 2))\n",
        "\n",
        "# Apply weekend discount\n",
        "if day_of_week in [\"Saturday\", \"Sunday\"]:\n",
        "    discount = purchase_amount * 0.02\n",
        "    total_discount += discount\n",
        "    print(\"Weekend 2% discount applied: $\", round(discount, 2))\n",
        "\n",
        "# Apply holiday season discount\n",
        "if is_holiday_season:\n",
        "    discount = purchase_amount * 0.08\n",
        "    total_discount += discount\n",
        "    print(\"Holiday season 8% discount applied: $\", round(discount, 2))\n",
        "\n",
        "# Calculate final price\n",
        "final_price = purchase_amount - total_discount\n",
        "print(\"Total discount: $\", round(total_discount, 2))\n",
        "print(\"Final price after all discounts: $\", round(final_price, 2))"
      ],
      "metadata": {
        "colab": {
          "base_uri": "https://localhost:8080/"
        },
        "id": "0mmimGIKRKYk",
        "outputId": "2b3396c0-9b3f-40ed-a6f6-96cea0de869d"
      },
      "execution_count": null,
      "outputs": [
        {
          "output_type": "stream",
          "name": "stdout",
          "text": [
            "Original purchase amount: $ 120.0\n",
            "10% discount applied: $ 12.0\n",
            "Loyalty member 5% discount applied: $ 6.0\n",
            "Weekend 2% discount applied: $ 2.4\n",
            "Holiday season 8% discount applied: $ 9.6\n",
            "Total discount: $ 30.0\n",
            "Final price after all discounts: $ 90.0\n"
          ]
        }
      ]
    },
    {
      "cell_type": "code",
      "source": [
        "                                 #For Loop Assignment - Number Patterns\n",
        "# Pattern 1: Counting Numbers\n",
        "for i in range(1, 11):\n",
        "    print(i, end=' ')\n",
        "print()  # Newline after the pattern\n",
        "\n",
        "# Pattern 2: Multiplication Table for 5\n",
        "for i in range(1, 11):\n",
        "    print(f\"5 x {i} = {5 * i}\")"
      ],
      "metadata": {
        "colab": {
          "base_uri": "https://localhost:8080/"
        },
        "id": "Y9YunDRkR-q3",
        "outputId": "f5811182-6101-4320-872b-8b7b84fc7a38"
      },
      "execution_count": null,
      "outputs": [
        {
          "output_type": "stream",
          "name": "stdout",
          "text": [
            "1 2 3 4 5 6 7 8 9 10 \n",
            "5 x 1 = 5\n",
            "5 x 2 = 10\n",
            "5 x 3 = 15\n",
            "5 x 4 = 20\n",
            "5 x 5 = 25\n",
            "5 x 6 = 30\n",
            "5 x 7 = 35\n",
            "5 x 8 = 40\n",
            "5 x 9 = 45\n",
            "5 x 10 = 50\n"
          ]
        }
      ]
    },
    {
      "cell_type": "code",
      "source": [
        "                                               #While Loop Assignment - Interactive Game\n",
        "import random\n",
        "\n",
        "secret_number = random.randint(1, 50)\n",
        "guess = None\n",
        "attempts = 0\n",
        "\n",
        "print(\"Guess the secret number between 1 and 50!\")\n",
        "\n",
        "while guess != secret_number:\n",
        "    guess = int(input(\"Enter your guess: \"))\n",
        "    attempts += 1\n",
        "\n",
        "    if guess < secret_number:\n",
        "        print(\"Too low!\")\n",
        "    elif guess > secret_number:\n",
        "        print(\"Too high!\")\n",
        "\n",
        "print(f\"Congratulations! You guessed the number in {attempts} attempts.\")"
      ],
      "metadata": {
        "colab": {
          "base_uri": "https://localhost:8080/"
        },
        "id": "z0QrP4iCSbHD",
        "outputId": "ada0bf47-ed80-46d7-bc60-d2c623080a7d"
      },
      "execution_count": null,
      "outputs": [
        {
          "output_type": "stream",
          "name": "stdout",
          "text": [
            "Guess the secret number between 1 and 50!\n",
            "Enter your guess: 23\n",
            "Too high!\n",
            "Enter your guess: 20\n",
            "Too high!\n",
            "Enter your guess: 15\n",
            "Too high!\n",
            "Enter your guess: 10\n",
            "Too low!\n",
            "Enter your guess: 12\n",
            "Too low!\n",
            "Enter your guess: 14\n",
            "Congratulations! You guessed the number in 6 attempts.\n"
          ]
        }
      ]
    },
    {
      "cell_type": "code",
      "source": [
        "                                     #Student Grade Management System\n",
        "students = []\n",
        "\n",
        "# Adding 3 students\n",
        "students.append({\n",
        "    \"name\": \"Sara\",\n",
        "    \"id\": \"S101\",\n",
        "    \"grades\": {\"Math\": 85, \"Science\": 90, \"English\": 78}\n",
        "})\n",
        "\n",
        "students.append({\n",
        "    \"name\": \"Bilal\",\n",
        "    \"id\": \"S102\",\n",
        "    \"grades\": {\"Math\": 75, \"Science\": 88, \"English\": 82}\n",
        "})\n",
        "\n",
        "students.append({\n",
        "    \"name\": \"Azlan\",\n",
        "    \"id\": \"S103\",\n",
        "    \"grades\": {\"Math\": 92, \"Science\": 85, \"English\": 89}\n",
        "})\n",
        "\n",
        "# Display all students with their grades\n",
        "for student in students:\n",
        "    print(f\"Name: {student['name']}, ID: {student['id']}\")\n",
        "    for course, grade in student[\"grades\"].items():\n",
        "        print(f\"  {course}: {grade}\")\n",
        "    print()"
      ],
      "metadata": {
        "colab": {
          "base_uri": "https://localhost:8080/"
        },
        "id": "1lF5B1MqTzb7",
        "outputId": "c90c2194-7e72-4232-c606-f52659a08cab"
      },
      "execution_count": null,
      "outputs": [
        {
          "output_type": "stream",
          "name": "stdout",
          "text": [
            "Name: Sara, ID: S101\n",
            "  Math: 85\n",
            "  Science: 90\n",
            "  English: 78\n",
            "\n",
            "Name: Bilal, ID: S102\n",
            "  Math: 75\n",
            "  Science: 88\n",
            "  English: 82\n",
            "\n",
            "Name: Azlan, ID: S103\n",
            "  Math: 92\n",
            "  Science: 85\n",
            "  English: 89\n",
            "\n"
          ]
        }
      ]
    }
  ]
}