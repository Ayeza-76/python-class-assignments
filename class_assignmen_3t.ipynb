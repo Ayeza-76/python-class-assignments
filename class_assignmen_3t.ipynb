{
  "nbformat": 4,
  "nbformat_minor": 0,
  "metadata": {
    "colab": {
      "provenance": [],
      "authorship_tag": "ABX9TyP77GMHptzBzbuc+U7mmTnB",
      "include_colab_link": true
    },
    "kernelspec": {
      "name": "python3",
      "display_name": "Python 3"
    },
    "language_info": {
      "name": "python"
    }
  },
  "cells": [
    {
      "cell_type": "markdown",
      "metadata": {
        "id": "view-in-github",
        "colab_type": "text"
      },
      "source": [
        "<a href=\"https://colab.research.google.com/github/Ayeza-76/python-class-assignments/blob/main/class_assignmen_3t.ipynb\" target=\"_parent\"><img src=\"https://colab.research.google.com/assets/colab-badge.svg\" alt=\"Open In Colab\"/></a>"
      ]
    },
    {
      "cell_type": "code",
      "execution_count": null,
      "metadata": {
        "id": "9RjMS1TmItug"
      },
      "outputs": [],
      "source": []
    },
    {
      "cell_type": "markdown",
      "source": [
        "ASSIGNMENT#3"
      ],
      "metadata": {
        "id": "aFvIfis3IyR1"
      }
    },
    {
      "cell_type": "code",
      "source": [
        "                                                     #basic list operatons\n",
        "#Append a new number in the list\n",
        "numbers=[40,50,60,70,80]\n",
        "numbers.append(90)\n",
        "print(numbers)"
      ],
      "metadata": {
        "colab": {
          "base_uri": "https://localhost:8080/"
        },
        "id": "Or8uxbcmI2tX",
        "outputId": "aa6446f3-24e8-4f0c-dc59-5f26bc22249b"
      },
      "execution_count": null,
      "outputs": [
        {
          "output_type": "stream",
          "name": "stdout",
          "text": [
            "[40, 50, 60, 70, 80, 90]\n"
          ]
        }
      ]
    },
    {
      "cell_type": "code",
      "source": [
        "#Extend a list with another list\n",
        "list1=[1,2,3]\n",
        "list2=[4,5,6]\n",
        "list1.extend(list2)\n",
        "print(list1)"
      ],
      "metadata": {
        "colab": {
          "base_uri": "https://localhost:8080/"
        },
        "id": "MJXa2uWVMOu7",
        "outputId": "828a6d76-4844-4f1f-9917-3ea936fc4316"
      },
      "execution_count": null,
      "outputs": [
        {
          "output_type": "stream",
          "name": "stdout",
          "text": [
            "[1, 2, 3, 4, 5, 6]\n"
          ]
        }
      ]
    },
    {
      "cell_type": "code",
      "source": [
        "#Insert the string \"python\" at index 2\n",
        "languages= [\"java\", \"c++\" ,\"Javascript\",\"Ruby\"]\n",
        "languages.insert(2,\"python\")\n",
        "print(languages)"
      ],
      "metadata": {
        "colab": {
          "base_uri": "https://localhost:8080/"
        },
        "id": "e_U15EhcNnPb",
        "outputId": "36b7ec64-c38f-4e90-925e-15697c7aa79b"
      },
      "execution_count": null,
      "outputs": [
        {
          "output_type": "stream",
          "name": "stdout",
          "text": [
            "['java', 'c++', 'python', 'Javascript', 'Ruby']\n"
          ]
        }
      ]
    },
    {
      "cell_type": "code",
      "source": [
        "#Remove the first occurrence of the number 10\n",
        "numbers=[10,20,30,10,40]\n",
        "numbers.remove(10)\n",
        "print(numbers)"
      ],
      "metadata": {
        "colab": {
          "base_uri": "https://localhost:8080/"
        },
        "id": "W0BXuAQNOr5Q",
        "outputId": "93a971aa-c1a1-4d6b-9de0-8cc0e8c5875a"
      },
      "execution_count": null,
      "outputs": [
        {
          "output_type": "stream",
          "name": "stdout",
          "text": [
            "[20, 30, 10, 40]\n"
          ]
        }
      ]
    },
    {
      "cell_type": "code",
      "source": [
        "#Use pop() method to remove the last element\n",
        "numbers=[100,200,300,400]\n",
        "numbers.pop()\n",
        "print(numbers)"
      ],
      "metadata": {
        "colab": {
          "base_uri": "https://localhost:8080/"
        },
        "id": "IgVXd13ZQIW4",
        "outputId": "0e1cdc4c-348b-4a82-a271-cacc96aec1df"
      },
      "execution_count": null,
      "outputs": [
        {
          "output_type": "stream",
          "name": "stdout",
          "text": [
            "[100, 200, 300]\n"
          ]
        }
      ]
    },
    {
      "cell_type": "code",
      "source": [
        "                                 #Intermediate list operations\n",
        "#count a specific number\n",
        "numbers=[ 5,10, 5, 20, 5,30]\n",
        "count_5= numbers.count(5)\n",
        "print(count_5)\n"
      ],
      "metadata": {
        "colab": {
          "base_uri": "https://localhost:8080/"
        },
        "id": "bIzccG9UQ-pW",
        "outputId": "abdbfe94-b9b6-4f63-9d80-0c797c421766"
      },
      "execution_count": null,
      "outputs": [
        {
          "output_type": "stream",
          "name": "stdout",
          "text": [
            "3\n"
          ]
        }
      ]
    },
    {
      "cell_type": "code",
      "source": [
        "#Sort the list in ascending and descending order\n",
        "numbers=[7,5,8,9,4,2,0,6]\n",
        "numbers.sort()\n",
        "print(\"Ascending:\", numbers)"
      ],
      "metadata": {
        "colab": {
          "base_uri": "https://localhost:8080/"
        },
        "id": "1dMj0uT_S375",
        "outputId": "aef235f3-7f59-467d-d500-490c997a79c1"
      },
      "execution_count": null,
      "outputs": [
        {
          "output_type": "stream",
          "name": "stdout",
          "text": [
            "Ascending: [0, 2, 4, 5, 6, 7, 8, 9]\n"
          ]
        }
      ]
    },
    {
      "cell_type": "code",
      "source": [
        "numbers=[7,5,8,9,4,2,0,6]\n",
        "numbers.sort(reverse =True)\n",
        "print(\"Descending:\", numbers)"
      ],
      "metadata": {
        "colab": {
          "base_uri": "https://localhost:8080/"
        },
        "id": "nS32EXSaUY0S",
        "outputId": "910191de-0d7a-4dd6-9004-cb4690a1edfd"
      },
      "execution_count": null,
      "outputs": [
        {
          "output_type": "stream",
          "name": "stdout",
          "text": [
            "Descending: [9, 8, 7, 6, 5, 4, 2, 0]\n"
          ]
        }
      ]
    },
    {
      "cell_type": "code",
      "source": [
        "# Reverse the list\n",
        "fruits=[\"apple\",\"mango\",\"orange\",\"grapes\"]\n",
        "fruits.reverse()\n",
        "print(fruits)"
      ],
      "metadata": {
        "colab": {
          "base_uri": "https://localhost:8080/"
        },
        "id": "s7ArvYa5VJ7y",
        "outputId": "1e6eafac-79ef-4715-aec0-b6e6e295eb2e"
      },
      "execution_count": null,
      "outputs": [
        {
          "output_type": "stream",
          "name": "stdout",
          "text": [
            "['grapes', 'orange', 'mango', 'apple']\n"
          ]
        }
      ]
    },
    {
      "cell_type": "code",
      "source": [
        "# Create a copy of list and modify the copied list\n",
        "orignai_list=[1,2,3,4,5,6]\n",
        "copied_list=orignai_list.copy()\n",
        "copied_list.append(7)\n",
        "print(\"orignal_list:\",orignai_list)\n",
        "print(\"copied_list:\",copied_list)"
      ],
      "metadata": {
        "colab": {
          "base_uri": "https://localhost:8080/"
        },
        "id": "F9Tvo8CGWBk3",
        "outputId": "8f8d05d6-28f0-4615-a8ac-be38f0e8f1cc"
      },
      "execution_count": null,
      "outputs": [
        {
          "output_type": "stream",
          "name": "stdout",
          "text": [
            "orignal_list: [1, 2, 3, 4, 5, 6]\n",
            "copied_list: [1, 2, 3, 4, 5, 6, 7]\n"
          ]
        }
      ]
    },
    {
      "cell_type": "code",
      "source": [
        "#Clear all the elements of the list\n",
        "cars=[\"alto\",\"maira\",\"toyota\",\"mehran\"]\n",
        "cars.clear()\n",
        "print(cars)"
      ],
      "metadata": {
        "colab": {
          "base_uri": "https://localhost:8080/"
        },
        "id": "PH1mBnlgY7Mz",
        "outputId": "4abd7ecf-6bff-4499-c70a-44be70363aa3"
      },
      "execution_count": null,
      "outputs": [
        {
          "output_type": "stream",
          "name": "stdout",
          "text": [
            "[]\n"
          ]
        }
      ]
    },
    {
      "cell_type": "code",
      "source": [
        "                                   #Tuple based queations\n",
        "#Create a tuple with 5 different fruits and print the third fruit\n",
        "fruits=[\"gava\", \"pear\", \"banana\",\"watermelon\",\"cherry\"]\n",
        "print(fruits[3])\n"
      ],
      "metadata": {
        "colab": {
          "base_uri": "https://localhost:8080/"
        },
        "id": "a5vUglOhaar6",
        "outputId": "afcbf6a9-3e3e-4605-f381-4a30dd82f819"
      },
      "execution_count": null,
      "outputs": [
        {
          "output_type": "stream",
          "name": "stdout",
          "text": [
            "watermelon\n"
          ]
        }
      ]
    },
    {
      "cell_type": "code",
      "source": [
        "# Convert a tuple in to a list,remove an element convert it back in to a tuple\n",
        "numbers=(10,20,30,40,50)\n",
        "numbers_list= list(numbers)\n",
        "numbers_list.remove(40)\n",
        "numbers=tuple(numbers_list)\n",
        "print(numbers)\n",
        "\n"
      ],
      "metadata": {
        "colab": {
          "base_uri": "https://localhost:8080/"
        },
        "id": "02AUr9ktcA-a",
        "outputId": "d7338b79-512d-4c6a-e2c7-fd2b8303a402"
      },
      "execution_count": null,
      "outputs": [
        {
          "output_type": "stream",
          "name": "stdout",
          "text": [
            "(10, 20, 30, 50)\n"
          ]
        }
      ]
    },
    {
      "cell_type": "code",
      "source": [
        "#Append an element in to a tuple\n",
        "tuple1=(\"a\",\"b\",\"c\")\n",
        "tuple_list=list(tuple1)\n",
        "tuple_list.append(\"d\")\n",
        "tuple1=tuple(tuple_list)\n",
        "print(tuple1)"
      ],
      "metadata": {
        "colab": {
          "base_uri": "https://localhost:8080/"
        },
        "id": "ePN3x5Asl7KE",
        "outputId": "f52dbbaf-54e4-4ad0-fb3e-1fe017466abd"
      },
      "execution_count": null,
      "outputs": [
        {
          "output_type": "stream",
          "name": "stdout",
          "text": [
            "('a', 'b', 'c', 'd')\n"
          ]
        }
      ]
    },
    {
      "cell_type": "code",
      "source": [
        "#unpack tuple into variable\n",
        "numbers=(100,200,300)\n",
        "a,b,c=numbers\n",
        "print(a)\n",
        "print(b)\n",
        "print(c)"
      ],
      "metadata": {
        "colab": {
          "base_uri": "https://localhost:8080/"
        },
        "id": "igBd8NqrN0yk",
        "outputId": "438e7105-e9b1-4dae-8b0a-de3a2cf13c24"
      },
      "execution_count": null,
      "outputs": [
        {
          "output_type": "stream",
          "name": "stdout",
          "text": [
            "100\n",
            "200\n",
            "300\n"
          ]
        }
      ]
    },
    {
      "cell_type": "code",
      "source": [
        "#Count the occurrences of 7\n",
        "numbers=(7,1,7,3,7,5)\n",
        "count_7=numbers.count(7)\n",
        "print(count_7)"
      ],
      "metadata": {
        "colab": {
          "base_uri": "https://localhost:8080/"
        },
        "id": "kYL_0A7NOpW2",
        "outputId": "fe28b06d-e70f-416e-b20b-7b6a1c08f72a"
      },
      "execution_count": null,
      "outputs": [
        {
          "output_type": "stream",
          "name": "stdout",
          "text": [
            "3\n"
          ]
        }
      ]
    }
  ]
}